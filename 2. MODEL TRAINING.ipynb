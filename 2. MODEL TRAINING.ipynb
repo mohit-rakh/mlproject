{
 "cells": [
  {
   "attachments": {},
   "cell_type": "markdown",
   "id": "92e48866",
   "metadata": {},
   "source": [
    "## Model Training"
   ]
  },
  {
   "cell_type": "markdown",
   "id": "25791a74",
   "metadata": {},
   "source": [
    "#### 1.1 Import Data and Required Packages\n",
    "##### Importing Pandas, Numpy, Matplotlib, Seaborn and Warings Library."
   ]
  },
  {
   "cell_type": "code",
   "execution_count": 105,
   "id": "b080dfb2",
   "metadata": {},
   "outputs": [],
   "source": [
    "# Basic Import\n",
    "import numpy as np\n",
    "import pandas as pd\n",
    "import matplotlib.pyplot as plt \n",
    "import seaborn as sns\n",
    "# Modelling\n",
    "from sklearn.metrics import mean_squared_error, r2_score\n",
    "from sklearn.neighbors import KNeighborsRegressor\n",
    "from sklearn.tree import DecisionTreeRegressor\n",
    "from sklearn.ensemble import RandomForestRegressor\n",
    "from sklearn.svm import SVR\n",
    "from sklearn.linear_model import LinearRegression, Ridge,Lasso\n",
    "from sklearn.metrics import r2_score, mean_absolute_error, mean_squared_error\n",
    "from sklearn.model_selection import RandomizedSearchCV\n",
    "\n",
    "import warnings"
   ]
  },
  {
   "cell_type": "markdown",
   "id": "e45079ad",
   "metadata": {},
   "source": [
    "#### Import the CSV Data as Pandas DataFrame"
   ]
  },
  {
   "cell_type": "code",
   "execution_count": 106,
   "id": "e11c6255",
   "metadata": {},
   "outputs": [],
   "source": [
    "df = pd.read_csv('data.csv')"
   ]
  },
  {
   "cell_type": "markdown",
   "id": "20634923",
   "metadata": {},
   "source": [
    "#### Show Top 5 Records"
   ]
  },
  {
   "cell_type": "code",
   "execution_count": 107,
   "id": "e7e412a2",
   "metadata": {},
   "outputs": [
    {
     "data": {
      "text/html": [
       "<div>\n",
       "<style scoped>\n",
       "    .dataframe tbody tr th:only-of-type {\n",
       "        vertical-align: middle;\n",
       "    }\n",
       "\n",
       "    .dataframe tbody tr th {\n",
       "        vertical-align: top;\n",
       "    }\n",
       "\n",
       "    .dataframe thead th {\n",
       "        text-align: right;\n",
       "    }\n",
       "</style>\n",
       "<table border=\"1\" class=\"dataframe\">\n",
       "  <thead>\n",
       "    <tr style=\"text-align: right;\">\n",
       "      <th></th>\n",
       "      <th>price</th>\n",
       "      <th>bedrooms</th>\n",
       "      <th>bathrooms</th>\n",
       "      <th>sqft_living</th>\n",
       "      <th>sqft_lot</th>\n",
       "      <th>floors</th>\n",
       "      <th>waterfront</th>\n",
       "      <th>view</th>\n",
       "      <th>condition</th>\n",
       "      <th>sqft_above</th>\n",
       "      <th>sqft_basement</th>\n",
       "      <th>yr_built</th>\n",
       "      <th>yr_renovated</th>\n",
       "      <th>street</th>\n",
       "      <th>city</th>\n",
       "      <th>statezip</th>\n",
       "      <th>country</th>\n",
       "    </tr>\n",
       "  </thead>\n",
       "  <tbody>\n",
       "    <tr>\n",
       "      <th>0</th>\n",
       "      <td>7800.0</td>\n",
       "      <td>2</td>\n",
       "      <td>1.00</td>\n",
       "      <td>780</td>\n",
       "      <td>16344</td>\n",
       "      <td>1.0</td>\n",
       "      <td>0</td>\n",
       "      <td>0</td>\n",
       "      <td>1</td>\n",
       "      <td>780</td>\n",
       "      <td>0</td>\n",
       "      <td>1942</td>\n",
       "      <td>0</td>\n",
       "      <td>4229 S 144th St</td>\n",
       "      <td>Tukwila</td>\n",
       "      <td>WA 98168</td>\n",
       "      <td>USA</td>\n",
       "    </tr>\n",
       "    <tr>\n",
       "      <th>1</th>\n",
       "      <td>80000.0</td>\n",
       "      <td>1</td>\n",
       "      <td>0.75</td>\n",
       "      <td>430</td>\n",
       "      <td>5050</td>\n",
       "      <td>1.0</td>\n",
       "      <td>0</td>\n",
       "      <td>0</td>\n",
       "      <td>2</td>\n",
       "      <td>430</td>\n",
       "      <td>0</td>\n",
       "      <td>1912</td>\n",
       "      <td>0</td>\n",
       "      <td>32215 E Rutherford St</td>\n",
       "      <td>Carnation</td>\n",
       "      <td>WA 98014</td>\n",
       "      <td>USA</td>\n",
       "    </tr>\n",
       "    <tr>\n",
       "      <th>2</th>\n",
       "      <td>83000.0</td>\n",
       "      <td>2</td>\n",
       "      <td>1.00</td>\n",
       "      <td>900</td>\n",
       "      <td>8580</td>\n",
       "      <td>1.0</td>\n",
       "      <td>0</td>\n",
       "      <td>0</td>\n",
       "      <td>3</td>\n",
       "      <td>900</td>\n",
       "      <td>0</td>\n",
       "      <td>1918</td>\n",
       "      <td>0</td>\n",
       "      <td>14440 51st Ave S</td>\n",
       "      <td>Tukwila</td>\n",
       "      <td>WA 98168</td>\n",
       "      <td>USA</td>\n",
       "    </tr>\n",
       "    <tr>\n",
       "      <th>3</th>\n",
       "      <td>83300.0</td>\n",
       "      <td>3</td>\n",
       "      <td>2.00</td>\n",
       "      <td>1490</td>\n",
       "      <td>7770</td>\n",
       "      <td>1.0</td>\n",
       "      <td>0</td>\n",
       "      <td>0</td>\n",
       "      <td>4</td>\n",
       "      <td>1490</td>\n",
       "      <td>0</td>\n",
       "      <td>1990</td>\n",
       "      <td>0</td>\n",
       "      <td>26017 189th Ave SE</td>\n",
       "      <td>Covington</td>\n",
       "      <td>WA 98042</td>\n",
       "      <td>USA</td>\n",
       "    </tr>\n",
       "    <tr>\n",
       "      <th>4</th>\n",
       "      <td>83300.0</td>\n",
       "      <td>3</td>\n",
       "      <td>2.00</td>\n",
       "      <td>1370</td>\n",
       "      <td>78408</td>\n",
       "      <td>1.0</td>\n",
       "      <td>0</td>\n",
       "      <td>0</td>\n",
       "      <td>5</td>\n",
       "      <td>1370</td>\n",
       "      <td>0</td>\n",
       "      <td>1964</td>\n",
       "      <td>0</td>\n",
       "      <td>24007 196th Ave SE</td>\n",
       "      <td>Covington</td>\n",
       "      <td>WA 98042</td>\n",
       "      <td>USA</td>\n",
       "    </tr>\n",
       "  </tbody>\n",
       "</table>\n",
       "</div>"
      ],
      "text/plain": [
       "     price  bedrooms  bathrooms  sqft_living  sqft_lot  floors  waterfront  \\\n",
       "0   7800.0         2       1.00          780     16344     1.0           0   \n",
       "1  80000.0         1       0.75          430      5050     1.0           0   \n",
       "2  83000.0         2       1.00          900      8580     1.0           0   \n",
       "3  83300.0         3       2.00         1490      7770     1.0           0   \n",
       "4  83300.0         3       2.00         1370     78408     1.0           0   \n",
       "\n",
       "   view  condition  sqft_above  sqft_basement  yr_built  yr_renovated  \\\n",
       "0     0          1         780              0      1942             0   \n",
       "1     0          2         430              0      1912             0   \n",
       "2     0          3         900              0      1918             0   \n",
       "3     0          4        1490              0      1990             0   \n",
       "4     0          5        1370              0      1964             0   \n",
       "\n",
       "                  street       city  statezip country  \n",
       "0        4229 S 144th St    Tukwila  WA 98168     USA  \n",
       "1  32215 E Rutherford St  Carnation  WA 98014     USA  \n",
       "2       14440 51st Ave S    Tukwila  WA 98168     USA  \n",
       "3     26017 189th Ave SE  Covington  WA 98042     USA  \n",
       "4     24007 196th Ave SE  Covington  WA 98042     USA  "
      ]
     },
     "execution_count": 107,
     "metadata": {},
     "output_type": "execute_result"
    }
   ],
   "source": [
    "df.head()"
   ]
  },
  {
   "cell_type": "markdown",
   "id": "fbd32281",
   "metadata": {},
   "source": [
    "#### Preparing X and Y variables"
   ]
  },
  {
   "cell_type": "code",
   "execution_count": 108,
   "id": "56d72fde",
   "metadata": {},
   "outputs": [],
   "source": [
    "X = df[['bedrooms', 'bathrooms', 'sqft_living', 'sqft_lot',\n",
    "       'floors', 'waterfront', 'view', 'condition', 'sqft_above',\n",
    "       'sqft_basement']]"
   ]
  },
  {
   "cell_type": "code",
   "execution_count": 109,
   "id": "cd613177",
   "metadata": {},
   "outputs": [
    {
     "data": {
      "text/html": [
       "<div>\n",
       "<style scoped>\n",
       "    .dataframe tbody tr th:only-of-type {\n",
       "        vertical-align: middle;\n",
       "    }\n",
       "\n",
       "    .dataframe tbody tr th {\n",
       "        vertical-align: top;\n",
       "    }\n",
       "\n",
       "    .dataframe thead th {\n",
       "        text-align: right;\n",
       "    }\n",
       "</style>\n",
       "<table border=\"1\" class=\"dataframe\">\n",
       "  <thead>\n",
       "    <tr style=\"text-align: right;\">\n",
       "      <th></th>\n",
       "      <th>bedrooms</th>\n",
       "      <th>bathrooms</th>\n",
       "      <th>sqft_living</th>\n",
       "      <th>sqft_lot</th>\n",
       "      <th>floors</th>\n",
       "      <th>waterfront</th>\n",
       "      <th>view</th>\n",
       "      <th>condition</th>\n",
       "      <th>sqft_above</th>\n",
       "      <th>sqft_basement</th>\n",
       "    </tr>\n",
       "  </thead>\n",
       "  <tbody>\n",
       "    <tr>\n",
       "      <th>0</th>\n",
       "      <td>2</td>\n",
       "      <td>1.00</td>\n",
       "      <td>780</td>\n",
       "      <td>16344</td>\n",
       "      <td>1.0</td>\n",
       "      <td>0</td>\n",
       "      <td>0</td>\n",
       "      <td>1</td>\n",
       "      <td>780</td>\n",
       "      <td>0</td>\n",
       "    </tr>\n",
       "    <tr>\n",
       "      <th>1</th>\n",
       "      <td>1</td>\n",
       "      <td>0.75</td>\n",
       "      <td>430</td>\n",
       "      <td>5050</td>\n",
       "      <td>1.0</td>\n",
       "      <td>0</td>\n",
       "      <td>0</td>\n",
       "      <td>2</td>\n",
       "      <td>430</td>\n",
       "      <td>0</td>\n",
       "    </tr>\n",
       "    <tr>\n",
       "      <th>2</th>\n",
       "      <td>2</td>\n",
       "      <td>1.00</td>\n",
       "      <td>900</td>\n",
       "      <td>8580</td>\n",
       "      <td>1.0</td>\n",
       "      <td>0</td>\n",
       "      <td>0</td>\n",
       "      <td>3</td>\n",
       "      <td>900</td>\n",
       "      <td>0</td>\n",
       "    </tr>\n",
       "    <tr>\n",
       "      <th>3</th>\n",
       "      <td>3</td>\n",
       "      <td>2.00</td>\n",
       "      <td>1490</td>\n",
       "      <td>7770</td>\n",
       "      <td>1.0</td>\n",
       "      <td>0</td>\n",
       "      <td>0</td>\n",
       "      <td>4</td>\n",
       "      <td>1490</td>\n",
       "      <td>0</td>\n",
       "    </tr>\n",
       "    <tr>\n",
       "      <th>4</th>\n",
       "      <td>3</td>\n",
       "      <td>2.00</td>\n",
       "      <td>1370</td>\n",
       "      <td>78408</td>\n",
       "      <td>1.0</td>\n",
       "      <td>0</td>\n",
       "      <td>0</td>\n",
       "      <td>5</td>\n",
       "      <td>1370</td>\n",
       "      <td>0</td>\n",
       "    </tr>\n",
       "  </tbody>\n",
       "</table>\n",
       "</div>"
      ],
      "text/plain": [
       "   bedrooms  bathrooms  sqft_living  sqft_lot  floors  waterfront  view  \\\n",
       "0         2       1.00          780     16344     1.0           0     0   \n",
       "1         1       0.75          430      5050     1.0           0     0   \n",
       "2         2       1.00          900      8580     1.0           0     0   \n",
       "3         3       2.00         1490      7770     1.0           0     0   \n",
       "4         3       2.00         1370     78408     1.0           0     0   \n",
       "\n",
       "   condition  sqft_above  sqft_basement  \n",
       "0          1         780              0  \n",
       "1          2         430              0  \n",
       "2          3         900              0  \n",
       "3          4        1490              0  \n",
       "4          5        1370              0  "
      ]
     },
     "execution_count": 109,
     "metadata": {},
     "output_type": "execute_result"
    }
   ],
   "source": [
    "X.head()"
   ]
  },
  {
   "cell_type": "code",
   "execution_count": 110,
   "id": "f237ea14",
   "metadata": {},
   "outputs": [
    {
     "name": "stdout",
     "output_type": "stream",
     "text": [
      "Categories in 'street' variable:      ['4229 S 144th St' '32215 E Rutherford St' '14440 51st Ave S' ...\n",
      " '5044 Butterworth Rd' '4442 95th Ave NE' '5426 40th Ave W']\n",
      "Categories in 'city' variable:   ['Tukwila' 'Carnation' 'Covington' 'Yarrow Point' 'Auburn' 'Kirkland'\n",
      " 'Seattle' 'Algona' 'Renton' 'Burien' 'Kent' 'Enumclaw' 'Maple Valley'\n",
      " 'SeaTac' 'Duvall' 'Federal Way' 'Skykomish' 'Des Moines' 'Vashon'\n",
      " 'Redmond' 'Pacific' 'Shoreline' 'Medina' 'Normandy Park' 'Issaquah'\n",
      " 'Black Diamond' 'Ravensdale' 'Snoqualmie' 'Sammamish' 'Kenmore'\n",
      " 'North Bend' 'Bellevue' 'Woodinville' 'Milton' 'Lake Forest Park'\n",
      " 'Fall City' 'Newcastle' 'Bothell' 'Inglewood-Finn Hill' 'Mercer Island'\n",
      " 'Preston' 'Snoqualmie Pass' 'Beaux Arts Village' 'Clyde Hill']\n",
      "Categories in'statezip' variable: ['WA 98168' 'WA 98014' 'WA 98042' 'WA 98004' 'WA 98002' 'WA 98034'\n",
      " 'WA 98178' 'WA 98001' 'WA 98057' 'WA 98166' 'WA 98032' 'WA 98106'\n",
      " 'WA 98022' 'WA 98038' 'WA 98188' 'WA 98019' 'WA 98023' 'WA 98056'\n",
      " 'WA 98055' 'WA 98030' 'WA 98031' 'WA 98288' 'WA 98058' 'WA 98198'\n",
      " 'WA 98092' 'WA 98146' 'WA 98118' 'WA 98108' 'WA 98003' 'WA 98070'\n",
      " 'WA 98117' 'WA 98053' 'WA 98047' 'WA 98126' 'WA 98155' 'WA 98039'\n",
      " 'WA 98148' 'WA 98199' 'WA 98027' 'WA 98144' 'WA 98177' 'WA 98116'\n",
      " 'WA 98122' 'WA 98133' 'WA 98010' 'WA 98051' 'WA 98059' 'WA 98065'\n",
      " 'WA 98075' 'WA 98028' 'WA 98045' 'WA 98006' 'WA 98136' 'WA 98077'\n",
      " 'WA 98354' 'WA 98125' 'WA 98052' 'WA 98115' 'WA 98024' 'WA 98072'\n",
      " 'WA 98033' 'WA 98029' 'WA 98008' 'WA 98103' 'WA 98119' 'WA 98007'\n",
      " 'WA 98112' 'WA 98074' 'WA 98011' 'WA 98105' 'WA 98107' 'WA 98102'\n",
      " 'WA 98109' 'WA 98040' 'WA 98050' 'WA 98005' 'WA 98068']\n",
      "Categories in 'country' variable:      ['USA']\n"
     ]
    }
   ],
   "source": [
    "print(\"Categories in 'street' variable:     \",end=\" \" )\n",
    "print(df['street'].unique())\n",
    "\n",
    "print(\"Categories in 'city' variable:  \",end=\" \")\n",
    "print(df['city'].unique())\n",
    "\n",
    "print(\"Categories in'statezip' variable:\",end=\" \" )\n",
    "print(df[ 'statezip'].unique())\n",
    "\n",
    "print(\"Categories in 'country' variable:     \",end=\" \" )\n",
    "print(df['country'].unique())\n"
   ]
  },
  {
   "cell_type": "code",
   "execution_count": 111,
   "id": "021a8e94",
   "metadata": {},
   "outputs": [],
   "source": [
    "# Create Column Transformer with 3 types of transformers\n",
    "num_features = X.select_dtypes(exclude=\"object\").columns\n",
    "cat_features = X.select_dtypes(include=\"object\").columns\n",
    "\n",
    "from sklearn.preprocessing import OneHotEncoder, StandardScaler\n",
    "from sklearn.compose import ColumnTransformer\n",
    "\n",
    "numeric_transformer = StandardScaler()\n",
    "oh_transformer = OneHotEncoder()\n",
    "\n",
    "preprocessor = ColumnTransformer(\n",
    "    [\n",
    "        (\"OneHotEncoder\", oh_transformer, cat_features),\n",
    "         (\"StandardScaler\", numeric_transformer, num_features),        \n",
    "    ]\n",
    ")\n"
   ]
  },
  {
   "cell_type": "code",
   "execution_count": 112,
   "id": "97a38900",
   "metadata": {},
   "outputs": [],
   "source": [
    "X = preprocessor.fit_transform(X)"
   ]
  },
  {
   "cell_type": "code",
   "execution_count": 113,
   "id": "1c37c69e",
   "metadata": {},
   "outputs": [
    {
     "data": {
      "text/plain": [
       "array([[-1.54185513, -1.48780567, -1.41506306, ..., -3.62789634,\n",
       "        -1.21999422, -0.67152025],\n",
       "       [-2.64734533, -1.80982621, -1.78123106, ..., -2.14665726,\n",
       "        -1.6296385 , -0.67152025],\n",
       "       [-1.54185513, -1.48780567, -1.28951975, ..., -0.66541817,\n",
       "        -1.07954476, -0.67152025],\n",
       "       ...,\n",
       "       [ 1.77461548,  5.91866676,  7.85421821, ..., -0.66541817,\n",
       "         3.50847114,  9.76217643],\n",
       "       [ 1.77461548,  3.02048189,  8.27269592, ..., -0.66541817,\n",
       "         6.85585008,  4.43709472],\n",
       "       [-0.43636492,  0.44431757,  0.06007087, ..., -0.66541817,\n",
       "        -0.31877682,  0.71386686]])"
      ]
     },
     "execution_count": 113,
     "metadata": {},
     "output_type": "execute_result"
    }
   ],
   "source": [
    "X\n"
   ]
  },
  {
   "cell_type": "code",
   "execution_count": 104,
   "id": "924b7f9d",
   "metadata": {},
   "outputs": [],
   "source": [
    "y = df['price']"
   ]
  },
  {
   "cell_type": "code",
   "execution_count": 114,
   "id": "ffc69816",
   "metadata": {},
   "outputs": [
    {
     "data": {
      "text/plain": [
       "0           7800.0\n",
       "1          80000.0\n",
       "2          83000.0\n",
       "3          83300.0\n",
       "4          83300.0\n",
       "           ...    \n",
       "4545     3800000.0\n",
       "4546     4489000.0\n",
       "4547     4668000.0\n",
       "4548     7062500.0\n",
       "4549    12899000.0\n",
       "Name: price, Length: 4550, dtype: float64"
      ]
     },
     "execution_count": 114,
     "metadata": {},
     "output_type": "execute_result"
    }
   ],
   "source": [
    "y"
   ]
  },
  {
   "cell_type": "code",
   "execution_count": 115,
   "id": "72459f1d",
   "metadata": {},
   "outputs": [
    {
     "data": {
      "text/plain": [
       "(4550, 10)"
      ]
     },
     "execution_count": 115,
     "metadata": {},
     "output_type": "execute_result"
    }
   ],
   "source": [
    "X.shape"
   ]
  },
  {
   "cell_type": "code",
   "execution_count": 116,
   "id": "ed5c4e99",
   "metadata": {},
   "outputs": [
    {
     "data": {
      "text/plain": [
       "((3640, 10), (910, 10))"
      ]
     },
     "execution_count": 116,
     "metadata": {},
     "output_type": "execute_result"
    }
   ],
   "source": [
    "# separate dataset into train and test\n",
    "from sklearn.model_selection import train_test_split\n",
    "X_train, X_test, y_train, y_test = train_test_split(X,y,test_size=0.2,random_state=42)\n",
    "X_train.shape, X_test.shape"
   ]
  },
  {
   "cell_type": "markdown",
   "id": "4cd80317",
   "metadata": {},
   "source": [
    "#### Create an Evaluate Function to give all metrics after model Training"
   ]
  },
  {
   "cell_type": "code",
   "execution_count": 142,
   "id": "8c247bd0",
   "metadata": {},
   "outputs": [],
   "source": [
    "def evaluate_model(true, predicted):\n",
    "    mae = mean_absolute_error(true, predicted)\n",
    "    mse = mean_squared_error(true, predicted)\n",
    "    rmse = np.sqrt(mean_squared_error(true, predicted))\n",
    "    r2_square = r2_score(true, predicted)\n",
    "    return mae, rmse, r2_square"
   ]
  },
  {
   "cell_type": "code",
   "execution_count": 143,
   "id": "79ccb8e7",
   "metadata": {
    "scrolled": false
   },
   "outputs": [
    {
     "name": "stdout",
     "output_type": "stream",
     "text": [
      "Linear Regression\n",
      "Model performance for Training set\n",
      "- Root Mean Squared Error: 514716.2744\n",
      "- Mean Absolute Error: 169603.7960\n",
      "- R2 Score: 0.3049\n",
      "----------------------------------\n",
      "Model performance for Test set\n",
      "- Root Mean Squared Error: 263460.0019\n",
      "- Mean Absolute Error: 175449.2117\n",
      "- R2 Score: 0.5032\n",
      "===================================\n",
      "\n",
      "\n",
      "Lasso\n",
      "Model performance for Training set\n",
      "- Root Mean Squared Error: 514852.0240\n",
      "- Mean Absolute Error: 170018.3858\n",
      "- R2 Score: 0.3046\n",
      "----------------------------------\n",
      "Model performance for Test set\n",
      "- Root Mean Squared Error: 261664.2110\n",
      "- Mean Absolute Error: 174406.6821\n",
      "- R2 Score: 0.5100\n",
      "===================================\n",
      "\n",
      "\n",
      "Ridge\n",
      "Model performance for Training set\n",
      "- Root Mean Squared Error: 514716.2744\n",
      "- Mean Absolute Error: 169603.7867\n",
      "- R2 Score: 0.3049\n",
      "----------------------------------\n",
      "Model performance for Test set\n",
      "- Root Mean Squared Error: 263459.8291\n",
      "- Mean Absolute Error: 175449.2181\n",
      "- R2 Score: 0.5032\n",
      "===================================\n",
      "\n",
      "\n",
      "K-Neighbors Regressor\n",
      "Model performance for Training set\n",
      "- Root Mean Squared Error: 479390.5109\n",
      "- Mean Absolute Error: 163708.6412\n",
      "- R2 Score: 0.3971\n",
      "----------------------------------\n",
      "Model performance for Test set\n",
      "- Root Mean Squared Error: 338605.1493\n",
      "- Mean Absolute Error: 195929.5574\n",
      "- R2 Score: 0.1794\n",
      "===================================\n",
      "\n",
      "\n"
     ]
    },
    {
     "name": "stderr",
     "output_type": "stream",
     "text": [
      "c:\\Users\\Mohit\\anaconda3\\Lib\\site-packages\\sklearn\\linear_model\\_coordinate_descent.py:631: ConvergenceWarning: Objective did not converge. You might want to increase the number of iterations, check the scale of the features or consider increasing regularisation. Duality gap: 9.649e+13, tolerance: 2.775e+10\n",
      "  model = cd_fast.enet_coordinate_descent(\n"
     ]
    },
    {
     "name": "stdout",
     "output_type": "stream",
     "text": [
      "Random Forest Regressor\n",
      "Model performance for Training set\n",
      "- Root Mean Squared Error: 255904.9433\n",
      "- Mean Absolute Error: 74882.5351\n",
      "- R2 Score: 0.8282\n",
      "----------------------------------\n",
      "Model performance for Test set\n",
      "- Root Mean Squared Error: 324200.6568\n",
      "- Mean Absolute Error: 190011.6758\n",
      "- R2 Score: 0.2477\n",
      "===================================\n",
      "\n",
      "\n"
     ]
    }
   ],
   "source": [
    "models = {\n",
    "    \"Linear Regression\": LinearRegression(),\n",
    "    \"Lasso\": Lasso(),\n",
    "    \"Ridge\": Ridge(),\n",
    "    \"K-Neighbors Regressor\": KNeighborsRegressor(),\n",
    "    \"Random Forest Regressor\": RandomForestRegressor()\n",
    "}\n",
    "model_list = []\n",
    "r2_list =[]\n",
    "y_test_pred_stack = np.empty((len(X_test), 0))  # 2D array to store stacked y_test_pred values\n",
    "for i in range(len(list(models))):\n",
    "    model = list(models.values())[i]\n",
    "    model.fit(X_train, y_train) # Train model\n",
    "\n",
    "    # Make predictions\n",
    "    y_train_pred = model.predict(X_train)\n",
    "    y_test_pred = model.predict(X_test)\n",
    "    \n",
    "    # Stack y_test_pred values\n",
    "     # Stack y_test_pred values in a new column\n",
    "    y_test_pred_stack = np.hstack((y_test_pred_stack, y_test_pred[:, np.newaxis]))\n",
    "    # Evaluate Train and Test dataset\n",
    "    model_train_mae , model_train_rmse, model_train_r2 = evaluate_model(y_train, y_train_pred)\n",
    "\n",
    "    model_test_mae , model_test_rmse, model_test_r2 = evaluate_model(y_test, y_test_pred)\n",
    "\n",
    "    \n",
    "    print(list(models.keys())[i])\n",
    "    model_list.append(list(models.keys())[i])\n",
    "    \n",
    "    print('Model performance for Training set')\n",
    "    print(\"- Root Mean Squared Error: {:.4f}\".format(model_train_rmse))\n",
    "    print(\"- Mean Absolute Error: {:.4f}\".format(model_train_mae))\n",
    "    print(\"- R2 Score: {:.4f}\".format(model_train_r2))\n",
    "\n",
    "    print('----------------------------------')\n",
    "    \n",
    "    print('Model performance for Test set')\n",
    "    print(\"- Root Mean Squared Error: {:.4f}\".format(model_test_rmse))\n",
    "    print(\"- Mean Absolute Error: {:.4f}\".format(model_test_mae))\n",
    "    print(\"- R2 Score: {:.4f}\".format(model_test_r2))\n",
    "    r2_list.append(model_test_r2)\n",
    "    \n",
    "    print('='*35)\n",
    "    print('\\n')"
   ]
  },
  {
   "cell_type": "markdown",
   "id": "06480b5a",
   "metadata": {},
   "source": [
    "### Results"
   ]
  },
  {
   "cell_type": "code",
   "execution_count": 144,
   "id": "e0159e5f",
   "metadata": {},
   "outputs": [
    {
     "data": {
      "text/html": [
       "<div>\n",
       "<style scoped>\n",
       "    .dataframe tbody tr th:only-of-type {\n",
       "        vertical-align: middle;\n",
       "    }\n",
       "\n",
       "    .dataframe tbody tr th {\n",
       "        vertical-align: top;\n",
       "    }\n",
       "\n",
       "    .dataframe thead th {\n",
       "        text-align: right;\n",
       "    }\n",
       "</style>\n",
       "<table border=\"1\" class=\"dataframe\">\n",
       "  <thead>\n",
       "    <tr style=\"text-align: right;\">\n",
       "      <th></th>\n",
       "      <th>Model Name</th>\n",
       "      <th>R2_Score</th>\n",
       "    </tr>\n",
       "  </thead>\n",
       "  <tbody>\n",
       "    <tr>\n",
       "      <th>1</th>\n",
       "      <td>Lasso</td>\n",
       "      <td>0.509959</td>\n",
       "    </tr>\n",
       "    <tr>\n",
       "      <th>2</th>\n",
       "      <td>Ridge</td>\n",
       "      <td>0.503210</td>\n",
       "    </tr>\n",
       "    <tr>\n",
       "      <th>0</th>\n",
       "      <td>Linear Regression</td>\n",
       "      <td>0.503209</td>\n",
       "    </tr>\n",
       "    <tr>\n",
       "      <th>4</th>\n",
       "      <td>Random Forest Regressor</td>\n",
       "      <td>0.247733</td>\n",
       "    </tr>\n",
       "    <tr>\n",
       "      <th>3</th>\n",
       "      <td>K-Neighbors Regressor</td>\n",
       "      <td>0.179401</td>\n",
       "    </tr>\n",
       "  </tbody>\n",
       "</table>\n",
       "</div>"
      ],
      "text/plain": [
       "                Model Name  R2_Score\n",
       "1                    Lasso  0.509959\n",
       "2                    Ridge  0.503210\n",
       "0        Linear Regression  0.503209\n",
       "4  Random Forest Regressor  0.247733\n",
       "3    K-Neighbors Regressor  0.179401"
      ]
     },
     "execution_count": 144,
     "metadata": {},
     "output_type": "execute_result"
    }
   ],
   "source": [
    "pd.DataFrame(list(zip(model_list, r2_list)), columns=['Model Name', 'R2_Score']).sort_values(by=[\"R2_Score\"],ascending=False)"
   ]
  },
  {
   "cell_type": "code",
   "execution_count": 148,
   "id": "ab34adb7",
   "metadata": {},
   "outputs": [
    {
     "data": {
      "text/plain": [
       "(182, 5)"
      ]
     },
     "execution_count": 148,
     "metadata": {},
     "output_type": "execute_result"
    }
   ],
   "source": [
    "y_test_pred_stack.shape"
   ]
  },
  {
   "cell_type": "code",
   "execution_count": 149,
   "id": "bbc71dfd",
   "metadata": {},
   "outputs": [],
   "source": [
    "X=y_test_pred_stack\n",
    "y=y_test\n",
    "X_train, X_test, y_train, y_test = train_test_split(X,y,test_size=0.2,random_state=42)"
   ]
  },
  {
   "cell_type": "code",
   "execution_count": 152,
   "id": "94bb53d4",
   "metadata": {},
   "outputs": [
    {
     "name": "stdout",
     "output_type": "stream",
     "text": [
      "LinearRegression()\n",
      "Mean Squared Error (MSE): 102716951873.1997\n",
      "Root Mean Squared Error (RMSE): 320494.85467507853\n",
      "Mean Absolute Error (MAE): 194355.62449746628\n",
      "R-squared (R2): 0.5750637835628728\n"
     ]
    },
    {
     "name": "stderr",
     "output_type": "stream",
     "text": [
      "c:\\Users\\Mohit\\anaconda3\\Lib\\site-packages\\sklearn\\linear_model\\_coordinate_descent.py:631: ConvergenceWarning: Objective did not converge. You might want to increase the number of iterations, check the scale of the features or consider increasing regularisation. Duality gap: 4.157e+12, tolerance: 1.552e+09\n",
      "  model = cd_fast.enet_coordinate_descent(\n"
     ]
    }
   ],
   "source": [
    "best_score =-pow(10,100)\n",
    "best_model = None\n",
    "\n",
    "for i in range(len(list(models))):\n",
    "    model = list(models.values())[i]\n",
    "    model.fit(X_train, y_train)\n",
    "     \n",
    "     # Make predictions\n",
    "    y_train_pred = model.predict(X_train)\n",
    "    y_test_pred = model.predict(X_test)\n",
    "    \n",
    "  \n",
    "    # Evaluate Train and Test dataset\n",
    "    model_train_mae , model_train_rmse, model_train_r2 = evaluate_model(y_train, y_train_pred)\n",
    "\n",
    "    model_test_mae , model_test_rmse, model_test_r2 = evaluate_model(y_test, y_test_pred)\n",
    "    if model_test_r2 > best_score:\n",
    "        best_score = model_test_r2\n",
    "        best_model =model\n",
    "        modelname=str(model)\n",
    "\n",
    "\n",
    "final_predictions = best_model.predict(X_test)\n",
    "print(modelname)\n",
    "mse = mean_squared_error(y_test, final_predictions)\n",
    "mae = mean_absolute_error(y_test, final_predictions)\n",
    "rmse = np.sqrt(mse)\n",
    "r2 = r2_score(y_test, final_predictions)\n",
    "\n",
    "\n",
    "print(\"Mean Squared Error (MSE):\", mse)\n",
    "print(\"Root Mean Squared Error (RMSE):\", rmse)\n",
    "print(\"Mean Absolute Error (MAE):\", mae)\n",
    "print(\"R-squared (R2):\", r2)"
   ]
  },
  {
   "cell_type": "markdown",
   "id": "6bfe2525",
   "metadata": {},
   "source": [
    "#### Inititally the rsquared value of the model was below 0.5 but after stacking the best possible model we increased it to around 0.6\n",
    "    Model Name\t                  R2_Score\n",
    "1\tLasso\t                  0.509959\n",
    "2\tRidge\t                  0.503210\n",
    "0\tLinear Regression\t      0.503209\n",
    "4\tRandom Forest Regressor\t  0.247733\n",
    "3\tK-Neighbors Regressor\t  0.179401\n",
    "After stacking it with the best model possible i.e Linear Regresion we got the R-squared (R2) value close to 0.5750637835628728"
   ]
  },
  {
   "cell_type": "markdown",
   "id": "357a7c1c",
   "metadata": {},
   "source": [
    "## Linear Regression"
   ]
  },
  {
   "cell_type": "code",
   "execution_count": 153,
   "id": "9a6ad559",
   "metadata": {},
   "outputs": [
    {
     "name": "stdout",
     "output_type": "stream",
     "text": [
      " Accuracy of the model is 57.51\n"
     ]
    }
   ],
   "source": [
    "lin_model = LinearRegression(fit_intercept=True)\n",
    "lin_model = best_model.fit(X_train, y_train)\n",
    "y_pred = lin_model.predict(X_test)\n",
    "score = r2_score(y_test, y_pred)*100\n",
    "print(\" Accuracy of the model is %.2f\" %score)"
   ]
  },
  {
   "cell_type": "markdown",
   "id": "1d31453e",
   "metadata": {},
   "source": [
    "## Plot y_pred and y_test"
   ]
  },
  {
   "cell_type": "code",
   "execution_count": 154,
   "id": "eb557b0a",
   "metadata": {},
   "outputs": [
    {
     "data": {
      "image/png": "[encoded data removed]",
      "text/plain": [
       "<Figure size 640x480 with 1 Axes>"
      ]
     },
     "metadata": {},
     "output_type": "display_data"
    }
   ],
   "source": [
    "plt.scatter(y_test,y_pred);\n",
    "plt.xlabel('Actual');\n",
    "plt.ylabel('Predicted');"
   ]
  },
  {
   "cell_type": "code",
   "execution_count": 155,
   "id": "1e707ec3",
   "metadata": {},
   "outputs": [
    {
     "data": {
      "image/png": "[encoded data removed]",
      "text/plain": [
       "<Figure size 640x480 with 1 Axes>"
      ]
     },
     "metadata": {},
     "output_type": "display_data"
    }
   ],
   "source": [
    "sns.regplot(x=y_test,y=y_pred,ci=None,color ='red');"
   ]
  },
  {
   "cell_type": "markdown",
   "id": "79c2fe28",
   "metadata": {},
   "source": [
    "#### Difference between Actual and Predicted Values"
   ]
  },
  {
   "cell_type": "code",
   "execution_count": 156,
   "id": "7c9a8b48",
   "metadata": {},
   "outputs": [
    {
     "data": {
      "text/html": [
       "<div>\n",
       "<style scoped>\n",
       "    .dataframe tbody tr th:only-of-type {\n",
       "        vertical-align: middle;\n",
       "    }\n",
       "\n",
       "    .dataframe tbody tr th {\n",
       "        vertical-align: top;\n",
       "    }\n",
       "\n",
       "    .dataframe thead th {\n",
       "        text-align: right;\n",
       "    }\n",
       "</style>\n",
       "<table border=\"1\" class=\"dataframe\">\n",
       "  <thead>\n",
       "    <tr style=\"text-align: right;\">\n",
       "      <th></th>\n",
       "      <th>Actual Value</th>\n",
       "      <th>Predicted Value</th>\n",
       "      <th>Difference</th>\n",
       "    </tr>\n",
       "  </thead>\n",
       "  <tbody>\n",
       "    <tr>\n",
       "      <th>1926</th>\n",
       "      <td>425000.0</td>\n",
       "      <td>7.454294e+05</td>\n",
       "      <td>-3.204294e+05</td>\n",
       "    </tr>\n",
       "    <tr>\n",
       "      <th>2569</th>\n",
       "      <td>505000.0</td>\n",
       "      <td>4.578809e+05</td>\n",
       "      <td>4.711912e+04</td>\n",
       "    </tr>\n",
       "    <tr>\n",
       "      <th>2596</th>\n",
       "      <td>510000.0</td>\n",
       "      <td>3.731009e+05</td>\n",
       "      <td>1.368991e+05</td>\n",
       "    </tr>\n",
       "    <tr>\n",
       "      <th>3712</th>\n",
       "      <td>740000.0</td>\n",
       "      <td>6.962350e+05</td>\n",
       "      <td>4.376499e+04</td>\n",
       "    </tr>\n",
       "    <tr>\n",
       "      <th>4448</th>\n",
       "      <td>1580000.0</td>\n",
       "      <td>1.164977e+06</td>\n",
       "      <td>4.150230e+05</td>\n",
       "    </tr>\n",
       "    <tr>\n",
       "      <th>2594</th>\n",
       "      <td>510000.0</td>\n",
       "      <td>3.721058e+05</td>\n",
       "      <td>1.378942e+05</td>\n",
       "    </tr>\n",
       "    <tr>\n",
       "      <th>1815</th>\n",
       "      <td>409316.0</td>\n",
       "      <td>4.425210e+05</td>\n",
       "      <td>-3.320498e+04</td>\n",
       "    </tr>\n",
       "    <tr>\n",
       "      <th>4129</th>\n",
       "      <td>930000.0</td>\n",
       "      <td>8.474685e+05</td>\n",
       "      <td>8.253146e+04</td>\n",
       "    </tr>\n",
       "    <tr>\n",
       "      <th>4527</th>\n",
       "      <td>2400000.0</td>\n",
       "      <td>1.051469e+06</td>\n",
       "      <td>1.348531e+06</td>\n",
       "    </tr>\n",
       "    <tr>\n",
       "      <th>859</th>\n",
       "      <td>295000.0</td>\n",
       "      <td>3.894695e+05</td>\n",
       "      <td>-9.446955e+04</td>\n",
       "    </tr>\n",
       "    <tr>\n",
       "      <th>4443</th>\n",
       "      <td>1550000.0</td>\n",
       "      <td>1.658385e+06</td>\n",
       "      <td>-1.083849e+05</td>\n",
       "    </tr>\n",
       "    <tr>\n",
       "      <th>1321</th>\n",
       "      <td>347500.0</td>\n",
       "      <td>4.825060e+05</td>\n",
       "      <td>-1.350060e+05</td>\n",
       "    </tr>\n",
       "    <tr>\n",
       "      <th>4478</th>\n",
       "      <td>1735000.0</td>\n",
       "      <td>1.419285e+06</td>\n",
       "      <td>3.157152e+05</td>\n",
       "    </tr>\n",
       "    <tr>\n",
       "      <th>3119</th>\n",
       "      <td>595000.0</td>\n",
       "      <td>4.031452e+05</td>\n",
       "      <td>1.918548e+05</td>\n",
       "    </tr>\n",
       "    <tr>\n",
       "      <th>3570</th>\n",
       "      <td>695000.0</td>\n",
       "      <td>5.934143e+05</td>\n",
       "      <td>1.015857e+05</td>\n",
       "    </tr>\n",
       "    <tr>\n",
       "      <th>1413</th>\n",
       "      <td>359000.0</td>\n",
       "      <td>4.340874e+05</td>\n",
       "      <td>-7.508741e+04</td>\n",
       "    </tr>\n",
       "    <tr>\n",
       "      <th>2254</th>\n",
       "      <td>462000.0</td>\n",
       "      <td>5.711037e+05</td>\n",
       "      <td>-1.091037e+05</td>\n",
       "    </tr>\n",
       "    <tr>\n",
       "      <th>3142</th>\n",
       "      <td>599990.0</td>\n",
       "      <td>6.245458e+05</td>\n",
       "      <td>-2.455584e+04</td>\n",
       "    </tr>\n",
       "    <tr>\n",
       "      <th>4080</th>\n",
       "      <td>899000.0</td>\n",
       "      <td>5.874526e+05</td>\n",
       "      <td>3.115474e+05</td>\n",
       "    </tr>\n",
       "    <tr>\n",
       "      <th>2748</th>\n",
       "      <td>535000.0</td>\n",
       "      <td>4.556709e+05</td>\n",
       "      <td>7.932909e+04</td>\n",
       "    </tr>\n",
       "    <tr>\n",
       "      <th>4122</th>\n",
       "      <td>925000.0</td>\n",
       "      <td>1.796930e+06</td>\n",
       "      <td>-8.719298e+05</td>\n",
       "    </tr>\n",
       "    <tr>\n",
       "      <th>1501</th>\n",
       "      <td>370000.0</td>\n",
       "      <td>3.830295e+05</td>\n",
       "      <td>-1.302947e+04</td>\n",
       "    </tr>\n",
       "    <tr>\n",
       "      <th>1207</th>\n",
       "      <td>334000.0</td>\n",
       "      <td>6.362244e+05</td>\n",
       "      <td>-3.022244e+05</td>\n",
       "    </tr>\n",
       "    <tr>\n",
       "      <th>1204</th>\n",
       "      <td>333000.0</td>\n",
       "      <td>2.523277e+05</td>\n",
       "      <td>8.067228e+04</td>\n",
       "    </tr>\n",
       "    <tr>\n",
       "      <th>4484</th>\n",
       "      <td>1795000.0</td>\n",
       "      <td>1.531977e+06</td>\n",
       "      <td>2.630227e+05</td>\n",
       "    </tr>\n",
       "    <tr>\n",
       "      <th>3076</th>\n",
       "      <td>585000.0</td>\n",
       "      <td>5.451237e+05</td>\n",
       "      <td>3.987633e+04</td>\n",
       "    </tr>\n",
       "    <tr>\n",
       "      <th>3731</th>\n",
       "      <td>749000.0</td>\n",
       "      <td>6.690845e+05</td>\n",
       "      <td>7.991548e+04</td>\n",
       "    </tr>\n",
       "    <tr>\n",
       "      <th>2117</th>\n",
       "      <td>445000.0</td>\n",
       "      <td>5.099417e+05</td>\n",
       "      <td>-6.494166e+04</td>\n",
       "    </tr>\n",
       "    <tr>\n",
       "      <th>4101</th>\n",
       "      <td>910000.0</td>\n",
       "      <td>7.796397e+05</td>\n",
       "      <td>1.303603e+05</td>\n",
       "    </tr>\n",
       "    <tr>\n",
       "      <th>805</th>\n",
       "      <td>287600.0</td>\n",
       "      <td>4.338565e+05</td>\n",
       "      <td>-1.462565e+05</td>\n",
       "    </tr>\n",
       "    <tr>\n",
       "      <th>1536</th>\n",
       "      <td>375000.0</td>\n",
       "      <td>3.966892e+05</td>\n",
       "      <td>-2.168919e+04</td>\n",
       "    </tr>\n",
       "    <tr>\n",
       "      <th>3770</th>\n",
       "      <td>756000.0</td>\n",
       "      <td>6.016366e+05</td>\n",
       "      <td>1.543634e+05</td>\n",
       "    </tr>\n",
       "    <tr>\n",
       "      <th>2288</th>\n",
       "      <td>465500.0</td>\n",
       "      <td>5.090532e+05</td>\n",
       "      <td>-4.355319e+04</td>\n",
       "    </tr>\n",
       "    <tr>\n",
       "      <th>4372</th>\n",
       "      <td>1285000.0</td>\n",
       "      <td>7.411891e+05</td>\n",
       "      <td>5.438109e+05</td>\n",
       "    </tr>\n",
       "    <tr>\n",
       "      <th>1221</th>\n",
       "      <td>335000.0</td>\n",
       "      <td>5.207165e+05</td>\n",
       "      <td>-1.857165e+05</td>\n",
       "    </tr>\n",
       "    <tr>\n",
       "      <th>2591</th>\n",
       "      <td>510000.0</td>\n",
       "      <td>5.235610e+05</td>\n",
       "      <td>-1.356098e+04</td>\n",
       "    </tr>\n",
       "    <tr>\n",
       "      <th>2377</th>\n",
       "      <td>480000.0</td>\n",
       "      <td>3.558019e+05</td>\n",
       "      <td>1.241981e+05</td>\n",
       "    </tr>\n",
       "  </tbody>\n",
       "</table>\n",
       "</div>"
      ],
      "text/plain": [
       "      Actual Value  Predicted Value    Difference\n",
       "1926      425000.0     7.454294e+05 -3.204294e+05\n",
       "2569      505000.0     4.578809e+05  4.711912e+04\n",
       "2596      510000.0     3.731009e+05  1.368991e+05\n",
       "3712      740000.0     6.962350e+05  4.376499e+04\n",
       "4448     1580000.0     1.164977e+06  4.150230e+05\n",
       "2594      510000.0     3.721058e+05  1.378942e+05\n",
       "1815      409316.0     4.425210e+05 -3.320498e+04\n",
       "4129      930000.0     8.474685e+05  8.253146e+04\n",
       "4527     2400000.0     1.051469e+06  1.348531e+06\n",
       "859       295000.0     3.894695e+05 -9.446955e+04\n",
       "4443     1550000.0     1.658385e+06 -1.083849e+05\n",
       "1321      347500.0     4.825060e+05 -1.350060e+05\n",
       "4478     1735000.0     1.419285e+06  3.157152e+05\n",
       "3119      595000.0     4.031452e+05  1.918548e+05\n",
       "3570      695000.0     5.934143e+05  1.015857e+05\n",
       "1413      359000.0     4.340874e+05 -7.508741e+04\n",
       "2254      462000.0     5.711037e+05 -1.091037e+05\n",
       "3142      599990.0     6.245458e+05 -2.455584e+04\n",
       "4080      899000.0     5.874526e+05  3.115474e+05\n",
       "2748      535000.0     4.556709e+05  7.932909e+04\n",
       "4122      925000.0     1.796930e+06 -8.719298e+05\n",
       "1501      370000.0     3.830295e+05 -1.302947e+04\n",
       "1207      334000.0     6.362244e+05 -3.022244e+05\n",
       "1204      333000.0     2.523277e+05  8.067228e+04\n",
       "4484     1795000.0     1.531977e+06  2.630227e+05\n",
       "3076      585000.0     5.451237e+05  3.987633e+04\n",
       "3731      749000.0     6.690845e+05  7.991548e+04\n",
       "2117      445000.0     5.099417e+05 -6.494166e+04\n",
       "4101      910000.0     7.796397e+05  1.303603e+05\n",
       "805       287600.0     4.338565e+05 -1.462565e+05\n",
       "1536      375000.0     3.966892e+05 -2.168919e+04\n",
       "3770      756000.0     6.016366e+05  1.543634e+05\n",
       "2288      465500.0     5.090532e+05 -4.355319e+04\n",
       "4372     1285000.0     7.411891e+05  5.438109e+05\n",
       "1221      335000.0     5.207165e+05 -1.857165e+05\n",
       "2591      510000.0     5.235610e+05 -1.356098e+04\n",
       "2377      480000.0     3.558019e+05  1.241981e+05"
      ]
     },
     "execution_count": 156,
     "metadata": {},
     "output_type": "execute_result"
    }
   ],
   "source": [
    "pred_df=pd.DataFrame({'Actual Value':y_test,'Predicted Value':y_pred,'Difference':y_test-y_pred})\n",
    "pred_df"
   ]
  }
 ],
 "metadata": {
  "kernelspec": {
   "display_name": "Python 3 (ipykernel)",
   "language": "python",
   "name": "python3"
  },
  "language_info": {
   "codemirror_mode": {
    "name": "ipython",
    "version": 3
   },
   "file_extension": ".py",
   "mimetype": "text/x-python",
   "name": "python",
   "nbconvert_exporter": "python",
   "pygments_lexer": "ipython3",
   "version": "3.11.3"
  }
 },
 "nbformat": 4,
 "nbformat_minor": 5
}
